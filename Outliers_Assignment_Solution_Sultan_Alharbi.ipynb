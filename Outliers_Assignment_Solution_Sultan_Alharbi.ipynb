{
 "cells": [
  {
   "cell_type": "markdown",
   "id": "timely-involvement",
   "metadata": {},
   "source": [
    "### Import your librares"
   ]
  },
  {
   "cell_type": "code",
   "execution_count": 1,
   "id": "dramatic-briefs",
   "metadata": {},
   "outputs": [],
   "source": [
    "import pandas as pd\n",
    "import numpy as np\n",
    "import plotly as px\n",
    "import seaborn as sns"
   ]
  },
  {
   "cell_type": "markdown",
   "id": "australian-softball",
   "metadata": {},
   "source": [
    "### Load your dataset"
   ]
  },
  {
   "cell_type": "code",
   "execution_count": 2,
   "id": "average-recipient",
   "metadata": {},
   "outputs": [
    {
     "data": {
      "text/html": [
       "<div>\n",
       "<style scoped>\n",
       "    .dataframe tbody tr th:only-of-type {\n",
       "        vertical-align: middle;\n",
       "    }\n",
       "\n",
       "    .dataframe tbody tr th {\n",
       "        vertical-align: top;\n",
       "    }\n",
       "\n",
       "    .dataframe thead th {\n",
       "        text-align: right;\n",
       "    }\n",
       "</style>\n",
       "<table border=\"1\" class=\"dataframe\">\n",
       "  <thead>\n",
       "    <tr style=\"text-align: right;\">\n",
       "      <th></th>\n",
       "      <th>DATE</th>\n",
       "      <th>PRCP</th>\n",
       "      <th>TMAX</th>\n",
       "      <th>TMIN</th>\n",
       "      <th>RAIN</th>\n",
       "    </tr>\n",
       "  </thead>\n",
       "  <tbody>\n",
       "    <tr>\n",
       "      <th>0</th>\n",
       "      <td>1948-01-01</td>\n",
       "      <td>0.47</td>\n",
       "      <td>51</td>\n",
       "      <td>42</td>\n",
       "      <td>True</td>\n",
       "    </tr>\n",
       "    <tr>\n",
       "      <th>1</th>\n",
       "      <td>1948-01-02</td>\n",
       "      <td>0.59</td>\n",
       "      <td>45</td>\n",
       "      <td>36</td>\n",
       "      <td>True</td>\n",
       "    </tr>\n",
       "    <tr>\n",
       "      <th>2</th>\n",
       "      <td>1948-01-03</td>\n",
       "      <td>0.42</td>\n",
       "      <td>45</td>\n",
       "      <td>35</td>\n",
       "      <td>True</td>\n",
       "    </tr>\n",
       "    <tr>\n",
       "      <th>3</th>\n",
       "      <td>1948-01-04</td>\n",
       "      <td>0.31</td>\n",
       "      <td>45</td>\n",
       "      <td>34</td>\n",
       "      <td>True</td>\n",
       "    </tr>\n",
       "    <tr>\n",
       "      <th>4</th>\n",
       "      <td>1948-01-05</td>\n",
       "      <td>0.17</td>\n",
       "      <td>45</td>\n",
       "      <td>32</td>\n",
       "      <td>True</td>\n",
       "    </tr>\n",
       "  </tbody>\n",
       "</table>\n",
       "</div>"
      ],
      "text/plain": [
       "         DATE  PRCP  TMAX  TMIN  RAIN\n",
       "0  1948-01-01  0.47    51    42  True\n",
       "1  1948-01-02  0.59    45    36  True\n",
       "2  1948-01-03  0.42    45    35  True\n",
       "3  1948-01-04  0.31    45    34  True\n",
       "4  1948-01-05  0.17    45    32  True"
      ]
     },
     "execution_count": 2,
     "metadata": {},
     "output_type": "execute_result"
    }
   ],
   "source": [
    "data=pd.read_csv(\"seattle_weather.csv\")\n",
    "data.head()"
   ]
  },
  {
   "cell_type": "markdown",
   "id": "9f68b54e",
   "metadata": {},
   "source": [
    "### Handle missing data in PRCP and RAIN columns"
   ]
  },
  {
   "cell_type": "code",
   "execution_count": 3,
   "id": "0801bd07",
   "metadata": {},
   "outputs": [
    {
     "data": {
      "text/plain": [
       "DATE    0\n",
       "PRCP    3\n",
       "TMAX    0\n",
       "TMIN    0\n",
       "RAIN    3\n",
       "dtype: int64"
      ]
     },
     "execution_count": 3,
     "metadata": {},
     "output_type": "execute_result"
    }
   ],
   "source": [
    "data.isnull().sum() # Show Null values"
   ]
  },
  {
   "cell_type": "code",
   "execution_count": 4,
   "id": "cc9d4453",
   "metadata": {},
   "outputs": [
    {
     "data": {
      "text/html": [
       "<div>\n",
       "<style scoped>\n",
       "    .dataframe tbody tr th:only-of-type {\n",
       "        vertical-align: middle;\n",
       "    }\n",
       "\n",
       "    .dataframe tbody tr th {\n",
       "        vertical-align: top;\n",
       "    }\n",
       "\n",
       "    .dataframe thead th {\n",
       "        text-align: right;\n",
       "    }\n",
       "</style>\n",
       "<table border=\"1\" class=\"dataframe\">\n",
       "  <thead>\n",
       "    <tr style=\"text-align: right;\">\n",
       "      <th></th>\n",
       "      <th>DATE</th>\n",
       "      <th>PRCP</th>\n",
       "      <th>TMAX</th>\n",
       "      <th>TMIN</th>\n",
       "      <th>RAIN</th>\n",
       "    </tr>\n",
       "  </thead>\n",
       "  <tbody>\n",
       "    <tr>\n",
       "      <th>18415</th>\n",
       "      <td>1998-06-02</td>\n",
       "      <td>NaN</td>\n",
       "      <td>72</td>\n",
       "      <td>52</td>\n",
       "      <td>NaN</td>\n",
       "    </tr>\n",
       "    <tr>\n",
       "      <th>18416</th>\n",
       "      <td>1998-06-03</td>\n",
       "      <td>NaN</td>\n",
       "      <td>66</td>\n",
       "      <td>51</td>\n",
       "      <td>NaN</td>\n",
       "    </tr>\n",
       "    <tr>\n",
       "      <th>21067</th>\n",
       "      <td>2005-09-05</td>\n",
       "      <td>NaN</td>\n",
       "      <td>70</td>\n",
       "      <td>52</td>\n",
       "      <td>NaN</td>\n",
       "    </tr>\n",
       "  </tbody>\n",
       "</table>\n",
       "</div>"
      ],
      "text/plain": [
       "             DATE  PRCP  TMAX  TMIN RAIN\n",
       "18415  1998-06-02   NaN    72    52  NaN\n",
       "18416  1998-06-03   NaN    66    51  NaN\n",
       "21067  2005-09-05   NaN    70    52  NaN"
      ]
     },
     "execution_count": 4,
     "metadata": {},
     "output_type": "execute_result"
    }
   ],
   "source": [
    "data[data[\"PRCP\"].isnull()] # Show null values in data frame"
   ]
  },
  {
   "cell_type": "code",
   "execution_count": 5,
   "id": "61a1556e",
   "metadata": {},
   "outputs": [
    {
     "data": {
      "text/html": [
       "<div>\n",
       "<style scoped>\n",
       "    .dataframe tbody tr th:only-of-type {\n",
       "        vertical-align: middle;\n",
       "    }\n",
       "\n",
       "    .dataframe tbody tr th {\n",
       "        vertical-align: top;\n",
       "    }\n",
       "\n",
       "    .dataframe thead th {\n",
       "        text-align: right;\n",
       "    }\n",
       "</style>\n",
       "<table border=\"1\" class=\"dataframe\">\n",
       "  <thead>\n",
       "    <tr style=\"text-align: right;\">\n",
       "      <th></th>\n",
       "      <th>DATE</th>\n",
       "      <th>PRCP</th>\n",
       "      <th>TMAX</th>\n",
       "      <th>TMIN</th>\n",
       "      <th>RAIN</th>\n",
       "    </tr>\n",
       "  </thead>\n",
       "  <tbody>\n",
       "    <tr>\n",
       "      <th>570</th>\n",
       "      <td>1949-07-24</td>\n",
       "      <td>0.05</td>\n",
       "      <td>70</td>\n",
       "      <td>52</td>\n",
       "      <td>True</td>\n",
       "    </tr>\n",
       "    <tr>\n",
       "      <th>1699</th>\n",
       "      <td>1952-08-26</td>\n",
       "      <td>0.00</td>\n",
       "      <td>70</td>\n",
       "      <td>52</td>\n",
       "      <td>False</td>\n",
       "    </tr>\n",
       "    <tr>\n",
       "      <th>2362</th>\n",
       "      <td>1954-06-20</td>\n",
       "      <td>0.06</td>\n",
       "      <td>70</td>\n",
       "      <td>52</td>\n",
       "      <td>True</td>\n",
       "    </tr>\n",
       "    <tr>\n",
       "      <th>2441</th>\n",
       "      <td>1954-09-07</td>\n",
       "      <td>0.14</td>\n",
       "      <td>70</td>\n",
       "      <td>52</td>\n",
       "      <td>True</td>\n",
       "    </tr>\n",
       "    <tr>\n",
       "      <th>2694</th>\n",
       "      <td>1955-05-18</td>\n",
       "      <td>0.00</td>\n",
       "      <td>70</td>\n",
       "      <td>52</td>\n",
       "      <td>False</td>\n",
       "    </tr>\n",
       "    <tr>\n",
       "      <th>4190</th>\n",
       "      <td>1959-06-22</td>\n",
       "      <td>0.00</td>\n",
       "      <td>70</td>\n",
       "      <td>52</td>\n",
       "      <td>False</td>\n",
       "    </tr>\n",
       "    <tr>\n",
       "      <th>4197</th>\n",
       "      <td>1959-06-29</td>\n",
       "      <td>0.00</td>\n",
       "      <td>70</td>\n",
       "      <td>52</td>\n",
       "      <td>False</td>\n",
       "    </tr>\n",
       "    <tr>\n",
       "      <th>5304</th>\n",
       "      <td>1962-07-10</td>\n",
       "      <td>0.00</td>\n",
       "      <td>70</td>\n",
       "      <td>52</td>\n",
       "      <td>False</td>\n",
       "    </tr>\n",
       "    <tr>\n",
       "      <th>5363</th>\n",
       "      <td>1962-09-07</td>\n",
       "      <td>0.00</td>\n",
       "      <td>70</td>\n",
       "      <td>52</td>\n",
       "      <td>False</td>\n",
       "    </tr>\n",
       "    <tr>\n",
       "      <th>6110</th>\n",
       "      <td>1964-09-23</td>\n",
       "      <td>0.00</td>\n",
       "      <td>70</td>\n",
       "      <td>52</td>\n",
       "      <td>False</td>\n",
       "    </tr>\n",
       "    <tr>\n",
       "      <th>6462</th>\n",
       "      <td>1965-09-10</td>\n",
       "      <td>0.00</td>\n",
       "      <td>70</td>\n",
       "      <td>52</td>\n",
       "      <td>False</td>\n",
       "    </tr>\n",
       "    <tr>\n",
       "      <th>6813</th>\n",
       "      <td>1966-08-27</td>\n",
       "      <td>0.29</td>\n",
       "      <td>70</td>\n",
       "      <td>52</td>\n",
       "      <td>True</td>\n",
       "    </tr>\n",
       "    <tr>\n",
       "      <th>7799</th>\n",
       "      <td>1969-05-09</td>\n",
       "      <td>0.00</td>\n",
       "      <td>70</td>\n",
       "      <td>52</td>\n",
       "      <td>False</td>\n",
       "    </tr>\n",
       "    <tr>\n",
       "      <th>8244</th>\n",
       "      <td>1970-07-28</td>\n",
       "      <td>0.00</td>\n",
       "      <td>70</td>\n",
       "      <td>52</td>\n",
       "      <td>False</td>\n",
       "    </tr>\n",
       "    <tr>\n",
       "      <th>8342</th>\n",
       "      <td>1970-11-03</td>\n",
       "      <td>0.00</td>\n",
       "      <td>70</td>\n",
       "      <td>52</td>\n",
       "      <td>False</td>\n",
       "    </tr>\n",
       "    <tr>\n",
       "      <th>11576</th>\n",
       "      <td>1979-09-11</td>\n",
       "      <td>0.00</td>\n",
       "      <td>70</td>\n",
       "      <td>52</td>\n",
       "      <td>False</td>\n",
       "    </tr>\n",
       "    <tr>\n",
       "      <th>13337</th>\n",
       "      <td>1984-07-07</td>\n",
       "      <td>0.00</td>\n",
       "      <td>70</td>\n",
       "      <td>52</td>\n",
       "      <td>False</td>\n",
       "    </tr>\n",
       "    <tr>\n",
       "      <th>14368</th>\n",
       "      <td>1987-05-04</td>\n",
       "      <td>0.00</td>\n",
       "      <td>70</td>\n",
       "      <td>52</td>\n",
       "      <td>False</td>\n",
       "    </tr>\n",
       "    <tr>\n",
       "      <th>15247</th>\n",
       "      <td>1989-09-29</td>\n",
       "      <td>0.01</td>\n",
       "      <td>70</td>\n",
       "      <td>52</td>\n",
       "      <td>True</td>\n",
       "    </tr>\n",
       "    <tr>\n",
       "      <th>15864</th>\n",
       "      <td>1991-06-08</td>\n",
       "      <td>0.00</td>\n",
       "      <td>70</td>\n",
       "      <td>52</td>\n",
       "      <td>False</td>\n",
       "    </tr>\n",
       "    <tr>\n",
       "      <th>16629</th>\n",
       "      <td>1993-07-12</td>\n",
       "      <td>0.00</td>\n",
       "      <td>70</td>\n",
       "      <td>52</td>\n",
       "      <td>False</td>\n",
       "    </tr>\n",
       "    <tr>\n",
       "      <th>17688</th>\n",
       "      <td>1996-06-05</td>\n",
       "      <td>0.00</td>\n",
       "      <td>70</td>\n",
       "      <td>52</td>\n",
       "      <td>False</td>\n",
       "    </tr>\n",
       "    <tr>\n",
       "      <th>17762</th>\n",
       "      <td>1996-08-18</td>\n",
       "      <td>0.00</td>\n",
       "      <td>70</td>\n",
       "      <td>52</td>\n",
       "      <td>False</td>\n",
       "    </tr>\n",
       "    <tr>\n",
       "      <th>18795</th>\n",
       "      <td>1999-06-17</td>\n",
       "      <td>0.00</td>\n",
       "      <td>70</td>\n",
       "      <td>52</td>\n",
       "      <td>False</td>\n",
       "    </tr>\n",
       "    <tr>\n",
       "      <th>19502</th>\n",
       "      <td>2001-05-24</td>\n",
       "      <td>0.00</td>\n",
       "      <td>70</td>\n",
       "      <td>52</td>\n",
       "      <td>False</td>\n",
       "    </tr>\n",
       "    <tr>\n",
       "      <th>21067</th>\n",
       "      <td>2005-09-05</td>\n",
       "      <td>NaN</td>\n",
       "      <td>70</td>\n",
       "      <td>52</td>\n",
       "      <td>NaN</td>\n",
       "    </tr>\n",
       "    <tr>\n",
       "      <th>21723</th>\n",
       "      <td>2007-06-23</td>\n",
       "      <td>0.00</td>\n",
       "      <td>70</td>\n",
       "      <td>52</td>\n",
       "      <td>False</td>\n",
       "    </tr>\n",
       "    <tr>\n",
       "      <th>22809</th>\n",
       "      <td>2010-06-13</td>\n",
       "      <td>0.00</td>\n",
       "      <td>70</td>\n",
       "      <td>52</td>\n",
       "      <td>False</td>\n",
       "    </tr>\n",
       "    <tr>\n",
       "      <th>24339</th>\n",
       "      <td>2014-08-21</td>\n",
       "      <td>0.00</td>\n",
       "      <td>70</td>\n",
       "      <td>52</td>\n",
       "      <td>False</td>\n",
       "    </tr>\n",
       "    <tr>\n",
       "      <th>25364</th>\n",
       "      <td>2017-06-11</td>\n",
       "      <td>0.00</td>\n",
       "      <td>70</td>\n",
       "      <td>52</td>\n",
       "      <td>False</td>\n",
       "    </tr>\n",
       "  </tbody>\n",
       "</table>\n",
       "</div>"
      ],
      "text/plain": [
       "             DATE  PRCP  TMAX  TMIN   RAIN\n",
       "570    1949-07-24  0.05    70    52   True\n",
       "1699   1952-08-26  0.00    70    52  False\n",
       "2362   1954-06-20  0.06    70    52   True\n",
       "2441   1954-09-07  0.14    70    52   True\n",
       "2694   1955-05-18  0.00    70    52  False\n",
       "4190   1959-06-22  0.00    70    52  False\n",
       "4197   1959-06-29  0.00    70    52  False\n",
       "5304   1962-07-10  0.00    70    52  False\n",
       "5363   1962-09-07  0.00    70    52  False\n",
       "6110   1964-09-23  0.00    70    52  False\n",
       "6462   1965-09-10  0.00    70    52  False\n",
       "6813   1966-08-27  0.29    70    52   True\n",
       "7799   1969-05-09  0.00    70    52  False\n",
       "8244   1970-07-28  0.00    70    52  False\n",
       "8342   1970-11-03  0.00    70    52  False\n",
       "11576  1979-09-11  0.00    70    52  False\n",
       "13337  1984-07-07  0.00    70    52  False\n",
       "14368  1987-05-04  0.00    70    52  False\n",
       "15247  1989-09-29  0.01    70    52   True\n",
       "15864  1991-06-08  0.00    70    52  False\n",
       "16629  1993-07-12  0.00    70    52  False\n",
       "17688  1996-06-05  0.00    70    52  False\n",
       "17762  1996-08-18  0.00    70    52  False\n",
       "18795  1999-06-17  0.00    70    52  False\n",
       "19502  2001-05-24  0.00    70    52  False\n",
       "21067  2005-09-05   NaN    70    52    NaN\n",
       "21723  2007-06-23  0.00    70    52  False\n",
       "22809  2010-06-13  0.00    70    52  False\n",
       "24339  2014-08-21  0.00    70    52  False\n",
       "25364  2017-06-11  0.00    70    52  False"
      ]
     },
     "execution_count": 5,
     "metadata": {},
     "output_type": "execute_result"
    }
   ],
   "source": [
    "data.query(\"TMAX==70 and TMIN ==52\") #  Just to Show where Null Values Located to Know how to handle with missing value"
   ]
  },
  {
   "cell_type": "code",
   "execution_count": 6,
   "id": "3b3f9ef7",
   "metadata": {},
   "outputs": [
    {
     "name": "stderr",
     "output_type": "stream",
     "text": [
      "C:\\Users\\ttsul\\AppData\\Local\\Temp\\ipykernel_17012\\837425606.py:2: FutureWarning: Dropping of nuisance columns in DataFrame reductions (with 'numeric_only=None') is deprecated; in a future version this will raise TypeError.  Select only valid columns before calling the reduction.\n",
      "  data.var()\n"
     ]
    },
    {
     "data": {
      "text/plain": [
       "PRCP      0.057136\n",
       "TMAX    163.149112\n",
       "TMIN     79.082528\n",
       "RAIN      0.244629\n",
       "dtype: float64"
      ]
     },
     "execution_count": 6,
     "metadata": {},
     "output_type": "execute_result"
    }
   ],
   "source": [
    "## Varience before handla missing value\n",
    "data.var()"
   ]
  },
  {
   "cell_type": "code",
   "execution_count": 7,
   "id": "f510bf4a",
   "metadata": {},
   "outputs": [
    {
     "data": {
      "text/plain": [
       "DATE    0\n",
       "PRCP    0\n",
       "TMAX    0\n",
       "TMIN    0\n",
       "RAIN    0\n",
       "dtype: int64"
      ]
     },
     "execution_count": 7,
     "metadata": {},
     "output_type": "execute_result"
    }
   ],
   "source": [
    "data.RAIN.bfill(inplace=True)\n",
    "data.PRCP.bfill(inplace=True)\n",
    "data.isnull().sum()"
   ]
  },
  {
   "cell_type": "code",
   "execution_count": 8,
   "id": "9cbf2386",
   "metadata": {},
   "outputs": [
    {
     "name": "stderr",
     "output_type": "stream",
     "text": [
      "C:\\Users\\ttsul\\AppData\\Local\\Temp\\ipykernel_17012\\1260137731.py:2: FutureWarning: Dropping of nuisance columns in DataFrame reductions (with 'numeric_only=None') is deprecated; in a future version this will raise TypeError.  Select only valid columns before calling the reduction.\n",
      "  data.var()\n"
     ]
    },
    {
     "data": {
      "text/plain": [
       "PRCP      0.057131\n",
       "TMAX    163.149112\n",
       "TMIN     79.082528\n",
       "RAIN      0.244622\n",
       "dtype: float64"
      ]
     },
     "execution_count": 8,
     "metadata": {},
     "output_type": "execute_result"
    }
   ],
   "source": [
    "## Varience After handla missing value\n",
    "data.var()"
   ]
  },
  {
   "cell_type": "markdown",
   "id": "monthly-meter",
   "metadata": {},
   "source": [
    "### Repeat the following steps for each column within outliers\n",
    "\n",
    "* Visualize the outliers\n",
    "* Detect if your data set contains any outliers\n",
    "* Identify lower & higher limit of outliers\n",
    "* Drop all outliers\n",
    "* Visualize the column after processing\n"
   ]
  },
  {
   "cell_type": "code",
   "execution_count": 9,
   "id": "enhanced-forge",
   "metadata": {},
   "outputs": [
    {
     "data": {
      "image/png": "[encoded data removed]",
      "text/plain": [
       "<Figure size 432x288 with 1 Axes>"
      ]
     },
     "metadata": {
      "needs_background": "light"
     },
     "output_type": "display_data"
    }
   ],
   "source": [
    "sns.boxplot(data=data); # Show Boxplot Outliers Before Remove Outliers\n",
    "\n",
    "## Outliers Located in \"PRCP\" and \"TMAX\" and \"TMIN\" Columns"
   ]
  },
  {
   "cell_type": "code",
   "execution_count": 10,
   "id": "professional-error",
   "metadata": {},
   "outputs": [
    {
     "name": "stdout",
     "output_type": "stream",
     "text": [
      "PRCP : lower bound outliers  -0.15000000000000002\n",
      "PRCP : higher bound outliers 0.25\n"
     ]
    }
   ],
   "source": [
    "Q1P = np.percentile(data['PRCP'], 25, interpolation = 'midpoint')\n",
    "Q3P = np.percentile(data['PRCP'], 75, interpolation = 'midpoint')\n",
    "IQRP = Q3P - Q1P\n",
    "               \n",
    "print('PRCP : lower bound outliers ', Q1P - 1.5*(IQRP))\n",
    "print('PRCP : higher bound outliers', Q3P + 1.5*(IQRP))"
   ]
  },
  {
   "cell_type": "code",
   "execution_count": 11,
   "id": "fc4c74b7",
   "metadata": {
    "scrolled": true
   },
   "outputs": [
    {
     "name": "stdout",
     "output_type": "stream",
     "text": [
      "TMAX : lower bound outliers  21.5\n",
      "TMAX : higher bound outliers 97.5\n"
     ]
    }
   ],
   "source": [
    "Q1X = np.percentile(data['TMAX'], 25, interpolation = 'midpoint')\n",
    "Q3X = np.percentile(data['TMAX'], 75, interpolation = 'midpoint')\n",
    "IQRX = Q3X - Q1X\n",
    "print('TMAX : lower bound outliers ', Q1X - (1.5*(IQRX)))\n",
    "print('TMAX : higher bound outliers', Q3X + (1.5*(IQRX)))"
   ]
  },
  {
   "cell_type": "code",
   "execution_count": 12,
   "id": "43fd3fe8",
   "metadata": {},
   "outputs": [
    {
     "name": "stdout",
     "output_type": "stream",
     "text": [
      "TMIN : lower bound outliers  17.0\n",
      "TMIN : higher bound outliers 73.0\n"
     ]
    }
   ],
   "source": [
    "Q1N = np.percentile(data['TMIN'], 25, interpolation = 'midpoint')\n",
    "Q3N = np.percentile(data['TMIN'], 75, interpolation = 'midpoint')\n",
    "IQRN = Q3N - Q1N\n",
    "               \n",
    "print('TMIN : lower bound outliers ', Q1N - 1.5*(IQRN))\n",
    "print('TMIN : higher bound outliers', Q3N + 1.5*(IQRN))"
   ]
  },
  {
   "cell_type": "code",
   "execution_count": 13,
   "id": "daily-crime",
   "metadata": {},
   "outputs": [],
   "source": [
    "data = data.drop(data[(data['PRCP'] > 0.25) | (data['PRCP'] < -0.15000000000000002)].index)"
   ]
  },
  {
   "cell_type": "code",
   "execution_count": 14,
   "id": "f81e5be8",
   "metadata": {},
   "outputs": [],
   "source": [
    "data = data.drop(data[(data['TMAX'] > 97.5) | (data['TMAX'] < 21.5)].index)"
   ]
  },
  {
   "cell_type": "code",
   "execution_count": 15,
   "id": "f29b2526",
   "metadata": {},
   "outputs": [],
   "source": [
    "data = data.drop(data[(data['TMIN'] > 73) | (data['TMIN'] < 17)].index)"
   ]
  },
  {
   "cell_type": "code",
   "execution_count": 16,
   "id": "9c53c2c2",
   "metadata": {},
   "outputs": [
    {
     "data": {
      "image/png": "[encoded data removed]",
      "text/plain": [
       "<Figure size 432x288 with 1 Axes>"
      ]
     },
     "metadata": {
      "needs_background": "light"
     },
     "output_type": "display_data"
    }
   ],
   "source": [
    "sns.boxplot(data=data); # Box plot after Remove Outliers"
   ]
  },
  {
   "cell_type": "code",
   "execution_count": null,
   "id": "bb6d0e2a",
   "metadata": {},
   "outputs": [],
   "source": []
  }
 ],
 "metadata": {
  "kernelspec": {
   "display_name": "Python 3 (ipykernel)",
   "language": "python",
   "name": "python3"
  },
  "language_info": {
   "codemirror_mode": {
    "name": "ipython",
    "version": 3
   },
   "file_extension": ".py",
   "mimetype": "text/x-python",
   "name": "python",
   "nbconvert_exporter": "python",
   "pygments_lexer": "ipython3",
   "version": "3.9.12"
  }
 },
 "nbformat": 4,
 "nbformat_minor": 5
}
